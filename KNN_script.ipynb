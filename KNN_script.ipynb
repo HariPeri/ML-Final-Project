{
 "cells": [
  {
   "metadata": {},
   "cell_type": "markdown",
   "source": "**CS 4774: Machine Learning Final Project - KMeans Approach**",
   "id": "7c655c3dec96ff15"
  },
  {
   "metadata": {},
   "cell_type": "markdown",
   "source": [
    "## Data Preprocessing\n",
    "\n",
    "We'll utilize pandas, numpy, and sklearn to preprocess our data, imputing numerical features and applying one-hot encoding to categorical features. "
   ],
   "id": "eac6146679462d5b"
  },
  {
   "metadata": {
    "ExecuteTime": {
     "end_time": "2025-04-20T21:39:54.263831Z",
     "start_time": "2025-04-20T21:39:53.856329Z"
    }
   },
   "cell_type": "code",
   "source": [
    "import pandas as pd\n",
    "import numpy as np\n",
    "from sklearn.impute import SimpleImputer\n",
    "from sklearn.pipeline import Pipeline\n",
    "from sklearn.preprocessing import OneHotEncoder\n",
    "from sklearn.preprocessing import StandardScaler\n",
    "from sklearn.compose import ColumnTransformer\n",
    "\n",
    "# training data:\n",
    "train_raw = pd.read_csv('data/train.csv')\n",
    "test_raw = pd.read_csv('data/test.csv')\n",
    "\n",
    "print(\"Train data shape: \", train_raw.shape)\n",
    "print(\"Test data shape: \", test_raw.shape)\n",
    "print(train_raw.head())\n",
    "\n",
    "# get features and targets:\n",
    "X_train = train_raw.drop(\"SalePrice\", axis=1)\n",
    "y_train = train_raw[\"SalePrice\"]\n",
    "X_test = test_raw.copy()  # can just copy as test.csv doesn't have the target\n",
    "\n",
    "# separate numerical and categorical features:\n",
    "numFeatures = X_train.select_dtypes(include=['int64', 'float64']).columns.tolist()\n",
    "catFeatures = X_train.select_dtypes(include=['object']).columns.tolist()\n",
    "\n",
    "# utilize pipelines for preprocessing:\n",
    "\n",
    "numPipeline = Pipeline([('imputer', SimpleImputer(strategy='median')),\n",
    "                        ('scaler', StandardScaler())])\n",
    "\n",
    "catPipeline = Pipeline([('imputer', SimpleImputer(strategy='most_frequent')),\n",
    "                        ('onehot', OneHotEncoder(handle_unknown='ignore', sparse_output=False))])\n",
    "\n",
    "# combine workflows:\n",
    "preprocessor = ColumnTransformer([('numerical', numPipeline, numFeatures),\n",
    "                                  ('categorical', catPipeline, catFeatures)])\n",
    "\n",
    "# now, fit and transform data:\n",
    "\n",
    "# use preprocessor to process train and test data:\n",
    "X_train_processed = preprocessor.fit_transform(X_train)\n",
    "X_test_processed = preprocessor.transform(X_test)\n",
    "\n",
    "# convert to pd dataframes:\n",
    "\n",
    "# need to concatenate processed numerical and categorical features:\n",
    "numFeature_names = numFeatures\n",
    "catFeature_names = preprocessor.named_transformers_['categorical'].named_steps['onehot'].get_feature_names_out(catFeatures)\n",
    "\n",
    "# concatenate\n",
    "totalFeatures = np.concatenate((numFeature_names, catFeature_names))\n",
    "\n",
    "# convert to dataframes:\n",
    "X_train_processed = pd.DataFrame(X_train_processed, columns=totalFeatures)\n",
    "X_test_processed = pd.DataFrame(X_test_processed, columns=totalFeatures)\n",
    "\n",
    "print(\"Processed Train dataset: \", X_train_processed.shape)\n",
    "print(\"Processed Test dataset: \", X_test_processed.shape)\n",
    "print(X_train_processed.head())\n",
    "\n",
    "# write out preprocessed data:\n",
    "X_train_processed.to_csv('data/train_processed.csv', index=False)\n",
    "X_test_processed.to_csv('data/test_processed.csv', index=False)"
   ],
   "id": "30e746f4b4debe6e",
   "outputs": [
    {
     "name": "stdout",
     "output_type": "stream",
     "text": [
      "Train data shape:  (1460, 81)\n",
      "Test data shape:  (1459, 80)\n",
      "   Id  MSSubClass MSZoning  LotFrontage  LotArea Street Alley LotShape  \\\n",
      "0   1          60       RL         65.0     8450   Pave   NaN      Reg   \n",
      "1   2          20       RL         80.0     9600   Pave   NaN      Reg   \n",
      "2   3          60       RL         68.0    11250   Pave   NaN      IR1   \n",
      "3   4          70       RL         60.0     9550   Pave   NaN      IR1   \n",
      "4   5          60       RL         84.0    14260   Pave   NaN      IR1   \n",
      "\n",
      "  LandContour Utilities  ... PoolArea PoolQC Fence MiscFeature MiscVal MoSold  \\\n",
      "0         Lvl    AllPub  ...        0    NaN   NaN         NaN       0      2   \n",
      "1         Lvl    AllPub  ...        0    NaN   NaN         NaN       0      5   \n",
      "2         Lvl    AllPub  ...        0    NaN   NaN         NaN       0      9   \n",
      "3         Lvl    AllPub  ...        0    NaN   NaN         NaN       0      2   \n",
      "4         Lvl    AllPub  ...        0    NaN   NaN         NaN       0     12   \n",
      "\n",
      "  YrSold  SaleType  SaleCondition  SalePrice  \n",
      "0   2008        WD         Normal     208500  \n",
      "1   2007        WD         Normal     181500  \n",
      "2   2008        WD         Normal     223500  \n",
      "3   2006        WD        Abnorml     140000  \n",
      "4   2008        WD         Normal     250000  \n",
      "\n",
      "[5 rows x 81 columns]\n",
      "Processed Train dataset:  (1460, 288)\n",
      "Processed Test dataset:  (1459, 288)\n",
      "         Id  MSSubClass  LotFrontage   LotArea  OverallQual  OverallCond  \\\n",
      "0 -1.730865    0.073375    -0.220875 -0.207142     0.651479    -0.517200   \n",
      "1 -1.728492   -0.872563     0.460320 -0.091886    -0.071836     2.179628   \n",
      "2 -1.726120    0.073375    -0.084636  0.073480     0.651479    -0.517200   \n",
      "3 -1.723747    0.309859    -0.447940 -0.096897     0.651479    -0.517200   \n",
      "4 -1.721374    0.073375     0.641972  0.375148     1.374795    -0.517200   \n",
      "\n",
      "   YearBuilt  YearRemodAdd  MasVnrArea  BsmtFinSF1  ...  SaleType_ConLw  \\\n",
      "0   1.050994      0.878668    0.514104    0.575425  ...             0.0   \n",
      "1   0.156734     -0.429577   -0.570750    1.171992  ...             0.0   \n",
      "2   0.984752      0.830215    0.325915    0.092907  ...             0.0   \n",
      "3  -1.863632     -0.720298   -0.570750   -0.499274  ...             0.0   \n",
      "4   0.951632      0.733308    1.366489    0.463568  ...             0.0   \n",
      "\n",
      "   SaleType_New  SaleType_Oth  SaleType_WD  SaleCondition_Abnorml  \\\n",
      "0           0.0           0.0          1.0                    0.0   \n",
      "1           0.0           0.0          1.0                    0.0   \n",
      "2           0.0           0.0          1.0                    0.0   \n",
      "3           0.0           0.0          1.0                    1.0   \n",
      "4           0.0           0.0          1.0                    0.0   \n",
      "\n",
      "   SaleCondition_AdjLand  SaleCondition_Alloca  SaleCondition_Family  \\\n",
      "0                    0.0                   0.0                   0.0   \n",
      "1                    0.0                   0.0                   0.0   \n",
      "2                    0.0                   0.0                   0.0   \n",
      "3                    0.0                   0.0                   0.0   \n",
      "4                    0.0                   0.0                   0.0   \n",
      "\n",
      "   SaleCondition_Normal  SaleCondition_Partial  \n",
      "0                   1.0                    0.0  \n",
      "1                   1.0                    0.0  \n",
      "2                   1.0                    0.0  \n",
      "3                   0.0                    0.0  \n",
      "4                   1.0                    0.0  \n",
      "\n",
      "[5 rows x 288 columns]\n"
     ]
    }
   ],
   "execution_count": 5
  },
  {
   "metadata": {},
   "cell_type": "markdown",
   "source": "## Implementation of K Nearest Neighbors",
   "id": "3ad107733ff10b81"
  },
  {
   "metadata": {
    "ExecuteTime": {
     "end_time": "2025-04-20T22:19:34.402063Z",
     "start_time": "2025-04-20T22:19:34.395062Z"
    }
   },
   "cell_type": "code",
   "source": "",
   "id": "38d96c597872e840",
   "outputs": [],
   "execution_count": 7
  }
 ],
 "metadata": {
  "kernelspec": {
   "display_name": "Python 3",
   "language": "python",
   "name": "python3"
  },
  "language_info": {
   "codemirror_mode": {
    "name": "ipython",
    "version": 2
   },
   "file_extension": ".py",
   "mimetype": "text/x-python",
   "name": "python",
   "nbconvert_exporter": "python",
   "pygments_lexer": "ipython2",
   "version": "2.7.6"
  }
 },
 "nbformat": 4,
 "nbformat_minor": 5
}
